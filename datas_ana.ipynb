{
 "cells": [
  {
   "cell_type": "code",
   "execution_count": 10,
   "metadata": {},
   "outputs": [
    {
     "data": {
      "text/plain": [
       "[['北京_0.csv', '北京_10.csv', '北京_5.csv'],\n",
       " ['天津_0.csv', '天津_10.csv', '天津_5.csv'],\n",
       " ['河北_0.csv', '河北_10.csv', '河北_5.csv']]"
      ]
     },
     "execution_count": 10,
     "metadata": {},
     "output_type": "execute_result"
    }
   ],
   "source": [
    "import os\n",
    "import pandas as pd\n",
    "\n",
    "dir = os.listdir('./results')\n",
    "g = [dir[:1]]\n",
    "[g[-1].append(y) if x[0:2] == y[0:2] else g.append([y]) for x, y in zip(dir[:-1], dir[1:])]\n",
    "dirs = g\n",
    "dirs"
   ]
  },
  {
   "cell_type": "code",
   "execution_count": 15,
   "metadata": {},
   "outputs": [],
   "source": [
    "for i in dirs:\n",
    "    df = pd.read_csv('./results/'+i[0]).iloc[:,:2]\n",
    "    for j in i:\n",
    "        df1 = pd.read_csv('./results/'+j)\n",
    "        df = pd.concat([df,df1.iloc[:,2:]], axis=1)\n",
    "    df.to_csv(i[0][0:2]+'.csv',index=False)"
   ]
  },
  {
   "cell_type": "code",
   "execution_count": null,
   "metadata": {},
   "outputs": [],
   "source": []
  }
 ],
 "metadata": {
  "interpreter": {
   "hash": "c3ac3f88986c03f5f4ea9b167d463bfb61b25cb597313235fabe727a0f7e0da2"
  },
  "kernelspec": {
   "display_name": "Python 3.9.5 64-bit ('base': conda)",
   "language": "python",
   "name": "python3"
  },
  "language_info": {
   "codemirror_mode": {
    "name": "ipython",
    "version": 3
   },
   "file_extension": ".py",
   "mimetype": "text/x-python",
   "name": "python",
   "nbconvert_exporter": "python",
   "pygments_lexer": "ipython3",
   "version": "3.9.5"
  },
  "orig_nbformat": 4
 },
 "nbformat": 4,
 "nbformat_minor": 2
}
